{
 "cells": [
  {
   "cell_type": "markdown",
   "id": "6def71ae-4db1-4a4f-b06f-57aca9afb55e",
   "metadata": {},
   "source": [
    "# Connect with MySQL database  & fetch all the data"
   ]
  },
  {
   "cell_type": "code",
   "execution_count": 1,
   "id": "522518ca-2e9f-4a01-b858-2579c72ab975",
   "metadata": {},
   "outputs": [],
   "source": [
    "import mysql.connector"
   ]
  },
  {
   "cell_type": "code",
   "execution_count": 2,
   "id": "a7221c1b-4dd7-425d-b100-2c0dce6007ac",
   "metadata": {},
   "outputs": [],
   "source": [
    "conn = mysql.connector.connect(\n",
    "    host='localhost',       # e.g., 'localhost'\n",
    "    user='root',   # e.g., 'root'\n",
    "    password='Gs#$1582qz#',\n",
    "    database='madhav_ecommerce_sales_dashboard'\n",
    ")"
   ]
  },
  {
   "cell_type": "code",
   "execution_count": null,
   "id": "d247b9f1-d2eb-4f64-be4a-ce34e150cd3d",
   "metadata": {},
   "outputs": [],
   "source": [
    "import pandas as pd"
   ]
  },
  {
   "cell_type": "code",
   "execution_count": null,
   "id": "16d0ccd7-8d04-4d76-bc63-989a80cc436e",
   "metadata": {},
   "outputs": [],
   "source": [
    "# fletch all the data from  \"details\"  table\n",
    "if conn.is_connected():\n",
    "        cursor = conn.cursor()\n",
    "        query = \"SELECT * FROM madhav_ecommerce_sales_dashboard.details\"\n",
    "        cursor.execute(query)\n",
    "        rows = cursor.fetchall()\n",
    "        column_names = [i[0] for i in cursor.description]\n",
    "        df1 = pd.DataFrame(rows, columns=column_names)"
   ]
  },
  {
   "cell_type": "code",
   "execution_count": null,
   "id": "ba5eb077-fd5a-4cd7-8f4f-d21406df1692",
   "metadata": {},
   "outputs": [],
   "source": [
    "# fletch all the data from  \"orders\"  table\n",
    "if conn.is_connected():\n",
    "        cursor = conn.cursor()\n",
    "        query = \"SELECT * FROM madhav_ecommerce_sales_dashboard.orders\"\n",
    "        cursor.execute(query)\n",
    "        rows = cursor.fetchall()\n",
    "        column_names = [i[0] for i in cursor.description]\n",
    "        df2 = pd.DataFrame(rows, columns=column_names)"
   ]
  },
  {
   "cell_type": "code",
   "execution_count": null,
   "id": "bc4f3211-943c-49a5-b6c0-a9c9bf14b4fc",
   "metadata": {},
   "outputs": [],
   "source": [
    "# inner join both table or dataframe\n",
    "result = pd.merge(df1, df2, on='Order ID', how='inner')"
   ]
  },
  {
   "cell_type": "code",
   "execution_count": null,
   "id": "4579edbf-d583-4086-977c-7f2d31635b41",
   "metadata": {},
   "outputs": [],
   "source": [
    "result.head()"
   ]
  },
  {
   "cell_type": "markdown",
   "id": "52df9616-0238-4104-b198-c092cc547d20",
   "metadata": {},
   "source": [
    "# data cleaning"
   ]
  },
  {
   "cell_type": "code",
   "execution_count": null,
   "id": "a682ef76-b2c0-46b1-8a51-a2625debe589",
   "metadata": {},
   "outputs": [],
   "source": [
    "result.shape"
   ]
  },
  {
   "cell_type": "code",
   "execution_count": null,
   "id": "6a6c11b1-f1db-430c-a45d-3ea22fa799da",
   "metadata": {},
   "outputs": [],
   "source": [
    "# adding new column  \"profit percentage\"\n",
    "result['profit percentage'] = result['Profit']/result['Amount']*100"
   ]
  },
  {
   "cell_type": "code",
   "execution_count": null,
   "id": "27870468-22a7-41ae-a903-d8cd82f5c937",
   "metadata": {},
   "outputs": [],
   "source": [
    "# make all the decimals in round figure\n",
    "result['profit percentage'] = result['profit percentage'].round(0)"
   ]
  },
  {
   "cell_type": "code",
   "execution_count": null,
   "id": "a7cb625b-1f28-4e20-b92f-0bcbe7392bfd",
   "metadata": {},
   "outputs": [],
   "source": [
    "# delete all the negative values\n",
    "result = result[result['Profit'] >= 0]"
   ]
  },
  {
   "cell_type": "code",
   "execution_count": null,
   "id": "02a738c7-3da4-44c3-a2b9-3c61ad8c7e47",
   "metadata": {},
   "outputs": [],
   "source": [
    "# delete all the 0s \n",
    "result = result[result['Profit'] != 0]"
   ]
  },
  {
   "cell_type": "code",
   "execution_count": null,
   "id": "2ce03cb2-b3c1-4361-995f-ae90187d556c",
   "metadata": {},
   "outputs": [],
   "source": [
    "# result[\"profit percentage\"].unique()\n",
    "# result[\"Profit\"].unique()"
   ]
  },
  {
   "cell_type": "code",
   "execution_count": null,
   "id": "f5b27203-c929-4334-98e5-5c6b7df6a871",
   "metadata": {},
   "outputs": [],
   "source": [
    "result.head()"
   ]
  },
  {
   "cell_type": "code",
   "execution_count": null,
   "id": "b7ba593b-82f5-4523-86a9-a23d4c531485",
   "metadata": {},
   "outputs": [],
   "source": [
    "result.shape"
   ]
  },
  {
   "cell_type": "code",
   "execution_count": null,
   "id": "572603c4-0f61-44a4-b29b-601174faadec",
   "metadata": {},
   "outputs": [],
   "source": [
    "result.info()"
   ]
  },
  {
   "cell_type": "code",
   "execution_count": null,
   "id": "317129cb-94d3-4918-9324-19e13bfc69e3",
   "metadata": {},
   "outputs": [],
   "source": [
    "# check the null values \n",
    "result.isna().sum()"
   ]
  },
  {
   "cell_type": "code",
   "execution_count": null,
   "id": "e85b5329-6978-4313-baab-371d19313d13",
   "metadata": {},
   "outputs": [],
   "source": [
    "result.describe(include=\"all\")"
   ]
  },
  {
   "cell_type": "markdown",
   "id": "b4e446d0-ab33-435e-9391-7a372b1e4bd8",
   "metadata": {},
   "source": [
    "# Data profiling"
   ]
  },
  {
   "cell_type": "code",
   "execution_count": null,
   "id": "31662faa-dc40-49f5-a85f-218c8e5d76a1",
   "metadata": {
    "scrolled": true
   },
   "outputs": [],
   "source": [
    "#  Data profiling\n",
    "\n",
    "import ydata_profiling as yp\n",
    "from ydata_profiling import ProfileReport\n",
    "profile = ProfileReport(result, title='YData Profiling Report', explorative=True)\n",
    "profile.to_notebook_iframe()"
   ]
  },
  {
   "cell_type": "markdown",
   "id": "b2ab0915-7a0a-4c17-8611-ccb7ae53531e",
   "metadata": {},
   "source": [
    "# Create Visual Charts"
   ]
  },
  {
   "cell_type": "code",
   "execution_count": null,
   "id": "71068128-02ee-402e-aa9b-1e265ef273d9",
   "metadata": {},
   "outputs": [],
   "source": [
    "import plotly.express as px"
   ]
  },
  {
   "cell_type": "code",
   "execution_count": null,
   "id": "c5d71fdb-16de-4d50-a356-626408a7a568",
   "metadata": {},
   "outputs": [],
   "source": [
    "# Convert the \"Order Date\" column to datetime format\n",
    "result['Order Date'] = pd.to_datetime(result['Order Date'], format='%d-%m-%Y')\n",
    "\n",
    "# Extract month and year from the \"Order Date\" column\n",
    "result['Month'] = result['Order Date'].dt.strftime('%Y-%m')\n",
    "\n",
    "# Group by \"Month-Year\" and sum the \"Profit\"\n",
    "result_grouped = result.groupby('Month')['Profit'].sum().reset_index()\n",
    "\n",
    "# Create an interactive bar chart\n",
    "fig = px.bar(result_grouped, x='Month', y='Profit', width= 1000,\n",
    "    height= 500,title='Total Monthly Profit', color_continuous_scale= 'rainbow', color='Month',\n",
    "    labels={'Month': 'Month', 'Profit': 'Total Profit'})\n",
    "fig"
   ]
  },
  {
   "cell_type": "code",
   "execution_count": null,
   "id": "e72b7301-172d-4d7c-bd38-cd4a64749047",
   "metadata": {},
   "outputs": [],
   "source": [
    "# Group by 'Sub-Category' and sum the 'Profit'\n",
    "profit_by_sub_category = result.groupby('Sub-Category')['Profit'].sum().reset_index()\n",
    "\n",
    "# Create an interactive bar plot using Plotly\n",
    "fig = px.bar(profit_by_sub_category, \n",
    "             x='Sub-Category', \n",
    "             y='Profit', \n",
    "             title='Profit On Sub-Category',\n",
    "             width= 1000,\n",
    "             height= 500,\n",
    "             color_continuous_scale= 'rainbow', color='Sub-Category',\n",
    "             labels={'Profit': 'Total Profit', 'Sub-Category': 'Sub-Category'},\n",
    "             template='plotly')\n",
    "fig"
   ]
  },
  {
   "cell_type": "code",
   "execution_count": null,
   "id": "0c5007d9-a52d-44b8-a687-0933a7dc21fd",
   "metadata": {},
   "outputs": [],
   "source": [
    "# Group by \"CustomerName\" and calculate the sum of \"Profit\"\n",
    "Amount_by_customer = result.groupby('CustomerName')['Amount'].sum().reset_index()\n",
    "\n",
    "# Sort the results by \"Profit\" in descending order and select the top 10 customers\n",
    "top_10_customers = Amount_by_customer.sort_values(by='Amount', ascending=False).head(10)\n",
    "\n",
    "# Create the interactive bar plot\n",
    "fig = px.bar(top_10_customers, x='CustomerName', y='Amount', \n",
    "             title='Top 10 Customers Amount',\n",
    "             color_continuous_scale= 'rainbow', color='CustomerName',\n",
    "             labels={'CustomerName': 'Customer Name', 'Amount': 'Total Amount'},\n",
    "             height=500, width=1000)\n",
    "fig"
   ]
  },
  {
   "cell_type": "code",
   "execution_count": null,
   "id": "eacf28ef-a96d-41cd-a1b0-a3c373b9d54e",
   "metadata": {},
   "outputs": [],
   "source": [
    "# Group by \"CustomerName\" and calculate the sum of \"Profit\"\n",
    "Amount_by_State = result.groupby('State')['Amount'].sum().reset_index()\n",
    "\n",
    "# Sort the results by \"Profit\" in descending order and select the top 10 customers\n",
    "top_10_State = Amount_by_State.sort_values(by='Amount', ascending=False).head(10)\n",
    "\n",
    "# Create the interactive bar plot\n",
    "fig = px.bar(top_10_State, x='State', y='Amount', \n",
    "             title='Top 10 State Amount', \n",
    "             color_continuous_scale= 'rainbow', color='State',\n",
    "             labels={'State': 'State Name', 'Amount': 'Total Amount'},\n",
    "             height=500, width=1000)\n",
    "fig"
   ]
  },
  {
   "cell_type": "code",
   "execution_count": null,
   "id": "c84cdbb3-089d-47fa-88fc-77c1c718d30f",
   "metadata": {},
   "outputs": [],
   "source": [
    "# Aggregate the data\n",
    "quantity_by_category = result.groupby('Category')['Quantity'].sum().reset_index()\n",
    "\n",
    "# Create the pie chart\n",
    "fig = px.pie(quantity_by_category, \n",
    "             names='Category', \n",
    "             values='Quantity', \n",
    "             title='Sum of Quantity by Category',\n",
    "             labels={'Category': 'Category', 'Quantity': 'Total Quantity'},\n",
    "             height=500, width=1000)\n",
    "\n",
    "fig"
   ]
  },
  {
   "cell_type": "code",
   "execution_count": null,
   "id": "fc7fa7a2-4821-4892-b37c-e62909c50ef6",
   "metadata": {},
   "outputs": [],
   "source": [
    "# Aggregate the data\n",
    "quantity_by_SubCategory = result.groupby('Sub-Category')['Quantity'].sum().reset_index()\n",
    "\n",
    "# Create the pie chart\n",
    "fig = px.pie(quantity_by_SubCategory, \n",
    "             names='Sub-Category', \n",
    "             values='Quantity', \n",
    "             title='Sum of Quantity by Sub-Category',\n",
    "             labels={'Sub-Category': 'Sub-Category', 'Quantity': 'Total Quantity'},\n",
    "             height=500, width=1000)\n",
    "\n",
    "fig"
   ]
  },
  {
   "cell_type": "code",
   "execution_count": null,
   "id": "6a7346e5-67e0-415e-a9b8-a9733105e475",
   "metadata": {},
   "outputs": [],
   "source": []
  }
 ],
 "metadata": {
  "kernelspec": {
   "display_name": "Python 3 (ipykernel)",
   "language": "python",
   "name": "python3"
  },
  "language_info": {
   "codemirror_mode": {
    "name": "ipython",
    "version": 3
   },
   "file_extension": ".py",
   "mimetype": "text/x-python",
   "name": "python",
   "nbconvert_exporter": "python",
   "pygments_lexer": "ipython3",
   "version": "3.12.4"
  }
 },
 "nbformat": 4,
 "nbformat_minor": 5
}
